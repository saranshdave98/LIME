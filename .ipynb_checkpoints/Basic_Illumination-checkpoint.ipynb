{
 "cells": [
  {
   "cell_type": "code",
   "execution_count": null,
   "metadata": {},
   "outputs": [],
   "source": [
    "import numpy as np\n",
    "import numpy as np\n",
    "import matplotlib.pyplot as plt\n",
    "from scipy import signal\n",
    "\n",
    "\"\"\"\n",
    "Paper: http://www.dabi.temple.edu/~hbling/publication/LIME-tip.pdf\n",
    "\"\"\"\n",
    "#Read Input Image and implement Equation 2 of the Paper\n",
    "\n",
    "def basic(img):\n",
    "    # This is the basic illumination map method for image illumination\n",
    "    img = img/255\n",
    "    img2 = np.zeros((img.shape[0], img.shape[1], img.shape[2]))\n",
    "\n",
    "    T_hat = np.max(img, axis = 2)\n",
    "    img2[:, :, 0] = T_hat\n",
    "    img2[:, :, 1] = T_hat\n",
    "    img2[:, :, 2] = T_hat\n",
    "\n",
    "    img3 = img/(img2 + 0.1)\n",
    "    return img3"
   ]
  },
  {
   "cell_type": "code",
   "execution_count": null,
   "metadata": {},
   "outputs": [],
   "source": [
    "img = plt.imread('Data/7.bmp')\n",
    "img = basic(img)\n",
    "plt.imshow(img)\n",
    "plt.show()"
   ]
  }
 ],
 "metadata": {
  "kernelspec": {
   "display_name": "Python 3",
   "language": "python",
   "name": "python3"
  },
  "language_info": {
   "codemirror_mode": {
    "name": "ipython",
    "version": 3
   },
   "file_extension": ".py",
   "mimetype": "text/x-python",
   "name": "python",
   "nbconvert_exporter": "python",
   "pygments_lexer": "ipython3",
   "version": "3.7.0"
  }
 },
 "nbformat": 4,
 "nbformat_minor": 2
}
