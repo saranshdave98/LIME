{
 "cells": [
  {
   "cell_type": "code",
   "execution_count": null,
   "metadata": {},
   "outputs": [],
   "source": [
    "import numpy as np\n",
    "import cv2\n",
    "from scipy import signal\n",
    "import matplotlib.pyplot as plt\n",
    "\n",
    "\"\"\"\n",
    "Paper: http://www.dabi.temple.edu/~hbling/publication/LIME-tip.pdf\n",
    "\"\"\"\n",
    "#Read Input Image and implement Equation 2 of the Paper\n",
    "\n",
    "img = cv2.imread('Data/small.jpg') / 255\n",
    "img2 = np.zeros((img.shape[0], img.shape[1], img.shape[2]))\n",
    "\n",
    "T_hat = np.max(img, axis = 2)\n",
    "img2[:, :, 0] = T_hat\n",
    "img2[:, :, 1] = T_hat\n",
    "img2[:, :, 2] = T_hat\n",
    "\n",
    "img3 = img / (img2 + 0.001)\n",
    "plt.imshow(img2)"
   ]
  },
  {
   "cell_type": "code",
   "execution_count": 15,
   "metadata": {},
   "outputs": [],
   "source": [
    "def Create_Toeplitz_Matrix(img,fil):\n",
    "    \"\"\"\n",
    "    Create Toeplitz Matrix based on the Filter\n",
    "    @Params:\n",
    "    img: Image on which Convolution needs to be performed\n",
    "    fil: Filter to apply to img\n",
    "    \"\"\"\n",
    "    \n",
    "    #Calcuate the size of the image after applying filter\n",
    "    img = np.array(img)\n",
    "    l,b = np.array(img).shape\n",
    "    fil = np.array(fil)\n",
    "    lf,bf = np.array(fil).shape\n",
    "    newlf,newbf = [l+lf-1,b+bf-1]\n",
    "   \n",
    "    # padding filter\n",
    "    fil = np.pad(fil, ((newlf-lf, 0), (0, newbf-bf)), 'constant')\n",
    "    \n",
    "    #Calculate Toeplitz Matrix\n",
    "    H = []\n",
    "   \n",
    "    for i in range(0,newlf):\n",
    "        li = []\n",
    "        for j in range(0,b):\n",
    "            li = li + [np.roll(fil[newlf-1-i],j).tolist()]\n",
    "        H = H + np.array(li).T.tolist()\n",
    "    R = np.array(H)\n",
    "   \n",
    "    for i in range(0,l-1):\n",
    "        H = rotate(H,newbf)\n",
    "        R = np.concatenate((R,np.array(H)),axis=1)\n",
    "       \n",
    "    return R,newlf,newbf"
   ]
  },
  {
   "cell_type": "code",
   "execution_count": 16,
   "metadata": {},
   "outputs": [],
   "source": [
    "def Update_G(W, delT, Z, mu, alpha = 0.1):\n",
    "    \"\"\"\n",
    "    Function to update G based on equation 15 of the Paper\n",
    "    @Params:\n",
    "    W: Weight of the derivatives\n",
    "    delT: Directives along X\n",
    "    \"\"\"\n",
    "    Z = Z / mu\n",
    "    X = delT + Z\n",
    "    epsilon = alpha * W / mu\n",
    "    G = np.sign(X) * (np.max(np.abs(X) - epsilon, 0))\n",
    "    return G"
   ]
  },
  {
   "cell_type": "code",
   "execution_count": 17,
   "metadata": {},
   "outputs": [],
   "source": [
    "def calculate_delT(T, Dx, Dy, newlf, newbf):\n",
    "    \"\"\"\n",
    "    Function to calculate derivative of an image\n",
    "    @Params:\n",
    "    T: Input Image\n",
    "    Dx: Topelitz Matrix\n",
    "    Dy: Toplitz Matrix\n",
    "    newlf, newbf: Size of the image after applying filter\n",
    "    \"\"\"\n",
    "    T = vectorize(T)\n",
    "    delX = Dx @ T\n",
    "    delY = Dy @ T\n",
    "    \n",
    "    delX = delX.reshape(newlf, newbf)\n",
    "    delX = delX[1:-1, 1: -1]\n",
    "    \n",
    "    delY = delY.reshape(newlf, newbf)\n",
    "    delY = delY[1:-1, 1: -1]\n",
    "    \n",
    "    delT = np.vstack([delX, delY])\n",
    "    return delT"
   ]
  },
  {
   "cell_type": "code",
   "execution_count": 18,
   "metadata": {},
   "outputs": [],
   "source": [
    "def calculate_numerator(T_hat, Dx, Dy, G, Z, mu, newlf, newbf):\n",
    "    \"\"\"\n",
    "    Function to calculate Numerator of equation 13 \n",
    "    \"\"\"\n",
    "    m, n = T_hat.shape\n",
    "    DT = np.hstack([Dx, Dy])\n",
    "    g = vectorize(G - Z / mu)\n",
    "    result = DT @ g\n",
    "    result = result.reshape(newlf, newbf)\n",
    "    result = result[1:-1, 1:-1]\n",
    "    numerator = 2 * T_hat + mu * result\n",
    "    return numerator"
   ]
  },
  {
   "cell_type": "code",
   "execution_count": 35,
   "metadata": {},
   "outputs": [],
   "source": [
    "def Update_T(T_hat, G, Z, mu, Dx, Dy, newlf, newbf, filX, filY):\n",
    "    \"\"\"\n",
    "    Function to update T based on equation 13 of the paper\n",
    "    @Params:\n",
    "    T_hat: Initial Illumination Map\n",
    "    G: Gradients\n",
    "    Z: Lagrange's Multiplier Vector\n",
    "    mu: Parameter to balance\n",
    "    Dx, Dy: Topelitz Matrices\n",
    "    newlf, newbf: Size of the image after applying filter \n",
    "    \"\"\"\n",
    "    \n",
    "    l, b = T_hat.shape\n",
    "    \n",
    "    vector_2 = 2 * np.ones((T_hat.shape[0], T_hat.shape[1]))\n",
    "    \n",
    "    FDx = np.fft.fft2(np.pad(filX, ((l - filX.shape[0], 0), (0, b - filX.shape[1])), 'constant'))\n",
    "    FDy = np.fft.fft2(np.pad(filY, ((l - filY.shape[0], 0), (0, b - filY.shape[1])), 'constant'))\n",
    "    \n",
    "    Denominator = vector_2 + mu * (np.conjugate(FDx) * FDx + np.conjugate(FDy) * FDy)\n",
    "    result = calculate_numerator(T_hat, Dx, Dy, G, Z, mu, newlf, newbf) \n",
    "    Numerator = np.fft.fft2(result)\n",
    "    \n",
    "    temp = np.abs(np.fft.ifft2(Numerator / Denominator))\n",
    "    return temp "
   ]
  },
  {
   "cell_type": "code",
   "execution_count": 48,
   "metadata": {},
   "outputs": [],
   "source": [
    "def optimize_T(T_hat, alpha):\n",
    "    \"\"\"\n",
    "    Algorithm 1 of the paper\n",
    "    @Params:\n",
    "    T_hat: Initial Illumination Map\n",
    "    alpha: Scalar Weights on the Gradients\n",
    "    \"\"\"\n",
    "       \n",
    "    W = np.ones((img2.shape[0] * 2, img2.shape[1]))\n",
    "    T = np.zeros((img2.shape[0], img2.shape[1]))\n",
    "    Z = 2 * np.zeros((img2.shape[0] * 2, img2.shape[1]))\n",
    "    G = 2 * np.zeros((img2.shape[0] * 2, img2.shape[1]))\n",
    "    t = 0\n",
    "    mu = 2\n",
    "    ro = 1.5\n",
    "    max_iter = 1\n",
    "    \n",
    "    filX = np.array([[0, 0, 0], [0, -1, 1], [0, 0, 0]])\n",
    "    filY = np.array([[0, 0, 0], [0, -1, 0], [0, 1, 0]])\n",
    "    Dx, newlf, newbf = Create_Toeplitz_Matrix(T, filX)\n",
    "    Dy, newlf, newbf = Create_Toeplitz_Matrix(T, filY)\n",
    "    \n",
    "    while(t < max_iter):\n",
    "        T = Update_T(T_hat, G, Z, mu, Dx, Dy, newlf, newbf, filX, filY)\n",
    "        delT = calculate_delT(T, Dx, Dy, newlf, newbf)\n",
    "        G = Update_G(W, delT, Z, mu, alpha)\n",
    "        Z = Z - mu * (delT - G)\n",
    "        mu = mu * ro\n",
    "        t += 1\n",
    "    return T"
   ]
  },
  {
   "cell_type": "code",
   "execution_count": 49,
   "metadata": {},
   "outputs": [],
   "source": [
    "def rotate(l, n):\n",
    "    \"\"\"\n",
    "    Function to rotate an array \n",
    "    @Params:\n",
    "    l: Array to be rotated\n",
    "    n: Number of times/positions\n",
    "    \"\"\"\n",
    "    return l[-n:] + l[:-n]\n",
    "\n",
    "def Reverse(lst):\n",
    "    \"\"\"\n",
    "    Function to reverse a list\n",
    "    \"\"\"\n",
    "    return [ele for ele in reversed(lst)]\n",
    "\n",
    "def vectorize(X):\n",
    "    \"\"\"\n",
    "    Function to reverse the rows and vectorize an array\n",
    "    @Params:\n",
    "    X: Matrix that needs to be vectorized\n",
    "    \"\"\"\n",
    "    m,n = X.shape\n",
    "    X = Reverse(X.tolist())\n",
    "    X = np.reshape(np.array(X),(m*n,1))\n",
    "    return X"
   ]
  },
  {
   "cell_type": "code",
   "execution_count": 50,
   "metadata": {},
   "outputs": [
    {
     "data": {
      "image/png": "[encoded data removed]",
      "text/plain": [
       "<Figure size 432x288 with 1 Axes>"
      ]
     },
     "metadata": {
      "needs_background": "light"
     },
     "output_type": "display_data"
    }
   ],
   "source": [
    "\"\"\"\n",
    "Calculate Illumination Map based on Algorithm 1 of the Paper\n",
    "\"\"\"\n",
    "\n",
    "alpha = 0.005\n",
    "T = optimize_T(T_hat, alpha)\n",
    "\n",
    "img2 = np.zeros((img.shape[0], img.shape[1], img.shape[2]))\n",
    "img2[:, :, 0] = T\n",
    "img2[:, :, 1] = T\n",
    "img2[:, :, 2] = T\n",
    "\n",
    "r = img / (img2 + 0.01) #0.01 for avoiding division by 0\n",
    "r = r * 255\n",
    "r = np.clip(r, 0, 255)\n",
    "r = np.fix(r).astype(np.uint8)\n",
    "plt.imshow(r)\n",
    "cv2.imshow('Output', r)\n",
    "cv2.waitKey()\n",
    "cv2.destroyAllWindows()"
   ]
  },
  {
   "cell_type": "code",
   "execution_count": 43,
   "metadata": {},
   "outputs": [
    {
     "data": {
      "text/plain": [
       "<matplotlib.image.AxesImage at 0x26697cba6d8>"
      ]
     },
     "execution_count": 43,
     "metadata": {},
     "output_type": "execute_result"
    },
    {
     "data": {
      "image/png": "[encoded data removed]",
      "text/plain": [
       "<Figure size 432x288 with 1 Axes>"
      ]
     },
     "metadata": {
      "needs_background": "light"
     },
     "output_type": "display_data"
    }
   ],
   "source": [
    "plt.imshow(r)"
   ]
  }
 ],
 "metadata": {
  "kernelspec": {
   "display_name": "Python 3",
   "language": "python",
   "name": "python3"
  },
  "language_info": {
   "codemirror_mode": {
    "name": "ipython",
    "version": 3
   },
   "file_extension": ".py",
   "mimetype": "text/x-python",
   "name": "python",
   "nbconvert_exporter": "python",
   "pygments_lexer": "ipython3",
   "version": "3.7.3"
  }
 },
 "nbformat": 4,
 "nbformat_minor": 2
}
